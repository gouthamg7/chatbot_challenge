{
 "cells": [
  {
   "cell_type": "code",
   "execution_count": 1,
   "metadata": {},
   "outputs": [],
   "source": [
    "import pandas as pd\n",
    "\n",
    "#Read in full dataset\n",
    "data = pd.read_csv('../dnn/language_identification/data/sentences.csv',\n",
    "                            sep='\\t', \n",
    "                            encoding='utf8', \n",
    "                            index_col=0,\n",
    "                            names=['lang','text'])"
   ]
  },
  {
   "cell_type": "code",
   "execution_count": 2,
   "metadata": {},
   "outputs": [],
   "source": [
    "lang = ['eng']\n",
    "data = data[data['lang'].isin(lang)]"
   ]
  },
  {
   "cell_type": "code",
   "execution_count": 3,
   "metadata": {},
   "outputs": [
    {
     "name": "stdout",
     "output_type": "stream",
     "text": [
      "(1377753, 2)\n"
     ]
    }
   ],
   "source": [
    "print(data.shape)"
   ]
  },
  {
   "cell_type": "code",
   "execution_count": 4,
   "metadata": {},
   "outputs": [
    {
     "name": "stdout",
     "output_type": "stream",
     "text": [
      "(23330, 1)\n"
     ]
    }
   ],
   "source": [
    "hin_data = pd.read_csv('hi_romanized.csv')\n",
    "print(hin_data.shape)"
   ]
  },
  {
   "cell_type": "code",
   "execution_count": 5,
   "metadata": {},
   "outputs": [
    {
     "name": "stdout",
     "output_type": "stream",
     "text": [
      "<bound method NDFrame.head of                                                     text\n",
      "0       maiM mohana ke sAtha geMda khelane jA rahA hU.N|\n",
      "1                    kyA tuma ise rAja़ rakha sakate ho?\n",
      "2      evaresTa parvata duniyA kA sabase U.NchA parva...\n",
      "3                          Apa kahA.N baiThanA chAheMge?\n",
      "4                 agara tumhAre pAsa kAla yaMtra hotA...\n",
      "...                                                  ...\n",
      "23325       maiM eka niyukti sheDyUla karanA chAhatA hUM\n",
      "23326                                  niyukti kA samaya\n",
      "23327                       maiM eka niyukti chAhatA hUM\n",
      "23328                            niyukti kI sUchI banAnA\n",
      "23329                          anusUchI niyukti kRRipayA\n",
      "\n",
      "[23330 rows x 1 columns]>\n"
     ]
    }
   ],
   "source": [
    "print(hin_data.head)"
   ]
  },
  {
   "cell_type": "code",
   "execution_count": 6,
   "metadata": {},
   "outputs": [],
   "source": [
    "hin_data['lang'] = 'hi'"
   ]
  },
  {
   "cell_type": "code",
   "execution_count": 7,
   "metadata": {},
   "outputs": [],
   "source": [
    "#Filter by text length\n",
    "#len_cond = [True if 20<=len(s)<=200 else False for s in data['text']]\n",
    "#data = data[len_cond]\n",
    "\n",
    "#Filter by text language\n",
    "#lang = ['deu', 'eng', 'fra', 'ita', 'por', 'spa']\n",
    "#data = data[data['lang'].isin(lang)]\n",
    "\n",
    "#Select 50000 rows for each language\n",
    "data_trim = pd.DataFrame(columns=['lang','text'])\n",
    "\n",
    "for l in lang:\n",
    "    lang_trim = data[data['lang'] ==l].sample(25000,random_state = 100)\n",
    "    data_trim = data_trim.append(lang_trim)"
   ]
  },
  {
   "cell_type": "code",
   "execution_count": 8,
   "metadata": {},
   "outputs": [
    {
     "name": "stdout",
     "output_type": "stream",
     "text": [
      "<bound method NDFrame.head of         lang                                               text\n",
      "6269052  eng             Tom asked Mary if she liked Thai food.\n",
      "7935492  eng                             I can't help drinking.\n",
      "2143023  eng                 Could you all turn off the lights?\n",
      "6523481  eng       Tom isn't going to be able to do that alone.\n",
      "3918423  eng                      I never thought I'd find you.\n",
      "...      ...                                                ...\n",
      "7403705  eng                       She said she wanted to talk.\n",
      "3417580  eng                        You're not as tall as I am.\n",
      "6868333  eng                  I knew I should have married you.\n",
      "6407568  eng  Mary didn't seem surprised when I told her Tom...\n",
      "4664835  eng                   It's a major tourist attraction.\n",
      "\n",
      "[25000 rows x 2 columns]>\n"
     ]
    }
   ],
   "source": [
    "print(data_trim.head)"
   ]
  },
  {
   "cell_type": "code",
   "execution_count": 9,
   "metadata": {},
   "outputs": [
    {
     "name": "stdout",
     "output_type": "stream",
     "text": [
      "(48330, 2)\n"
     ]
    }
   ],
   "source": [
    "data_trim = data_trim.append(hin_data,ignore_index=True)\n",
    "print(data_trim.shape)"
   ]
  },
  {
   "cell_type": "code",
   "execution_count": 10,
   "metadata": {},
   "outputs": [],
   "source": [
    "#Create a random train, valid, test split\n",
    "data_shuffle = data_trim.sample(frac=1)\n",
    "\n",
    "train = data_shuffle[0:45000]\n",
    "valid = data_shuffle[45000:47000]\n",
    "test = data_shuffle[47000:48000]"
   ]
  },
  {
   "cell_type": "code",
   "execution_count": 11,
   "metadata": {},
   "outputs": [
    {
     "name": "stdout",
     "output_type": "stream",
     "text": [
      "      lang                                          text\n",
      "48325   hi  maiM eka niyukti sheDyUla karanA chAhatA hUM\n",
      "48326   hi                             niyukti kA samaya\n",
      "48327   hi                  maiM eka niyukti chAhatA hUM\n",
      "48328   hi                       niyukti kI sUchI banAnA\n",
      "48329   hi                     anusUchI niyukti kRRipayA\n"
     ]
    }
   ],
   "source": [
    "print(data_trim.tail())"
   ]
  },
  {
   "cell_type": "code",
   "execution_count": 12,
   "metadata": {},
   "outputs": [],
   "source": [
    "from sklearn.feature_extraction.text import CountVectorizer\n",
    "\n",
    "def get_trigrams(corpus,n_feat=500):\n",
    "    \"\"\"\n",
    "    Returns a list of the N most common character trigrams from a list of sentences\n",
    "    params\n",
    "    ------------\n",
    "        corpus: list of strings\n",
    "        n_feat: integer\n",
    "    \"\"\"\n",
    "    \n",
    "    #fit the n-gram model\n",
    "    vectorizer = CountVectorizer(analyzer='char',\n",
    "                            ngram_range=(3, 3)\n",
    "                            ,max_features=n_feat)\n",
    "    \n",
    "    X = vectorizer.fit_transform(corpus.values.astype('U'))\n",
    "    \n",
    "    #Get model feature names\n",
    "    feature_names = vectorizer.get_feature_names()\n",
    "    \n",
    "    return feature_names"
   ]
  },
  {
   "cell_type": "code",
   "execution_count": 13,
   "metadata": {},
   "outputs": [
    {
     "name": "stdout",
     "output_type": "stream",
     "text": [
      "eng\n",
      "hi\n"
     ]
    }
   ],
   "source": [
    "#obtain trigrams from each language\n",
    "features = {}\n",
    "features_set = set()\n",
    "lang = ['eng', 'hi']\n",
    "for l in lang:\n",
    "    print(l)\n",
    "    #get corpus filtered by language\n",
    "    corpus = train[train.lang==l]['text']\n",
    "    \n",
    "    #get 200 most frequent trigrams\n",
    "    trigrams = get_trigrams(corpus)\n",
    "    \n",
    "    #add to dict and set\n",
    "    features[l] = trigrams \n",
    "    features_set.update(trigrams)\n",
    "\n",
    "    \n",
    "#create vocabulary list using feature set\n",
    "vocab = dict()\n",
    "for i,f in enumerate(features_set):\n",
    "    vocab[f]=i"
   ]
  },
  {
   "cell_type": "code",
   "execution_count": 14,
   "metadata": {},
   "outputs": [],
   "source": [
    "#train count vectoriser using vocabulary\n",
    "vectorizer = CountVectorizer(analyzer='char',\n",
    "                             ngram_range=(3, 3),\n",
    "                            vocabulary=vocab)\n",
    "\n",
    "#create feature matrix for training set\n",
    "corpus = train['text']   \n",
    "X = vectorizer.fit_transform(corpus.values.astype('U'))\n",
    "#x = v.fit_transform(df['Review'].values.astype('U'))\n",
    "feature_names = vectorizer.get_feature_names()\n",
    "\n",
    "train_feat = pd.DataFrame(data=X.toarray(),columns=feature_names)"
   ]
  },
  {
   "cell_type": "code",
   "execution_count": 15,
   "metadata": {},
   "outputs": [],
   "source": [
    "#Scale feature matrix \n",
    "train_min = train_feat.min()\n",
    "train_max = train_feat.max()\n",
    "train_feat = (train_feat - train_min)/(train_max-train_min)\n",
    "\n",
    "#Add target variable \n",
    "train_feat['lang'] = list(train['lang'])"
   ]
  },
  {
   "cell_type": "code",
   "execution_count": 16,
   "metadata": {},
   "outputs": [],
   "source": [
    "#create feature matrix for validation set\n",
    "corpus = valid['text']   \n",
    "X = vectorizer.fit_transform(corpus.values.astype('U'))\n",
    "\n",
    "valid_feat = pd.DataFrame(data=X.toarray(),columns=feature_names)\n",
    "valid_feat = (valid_feat - train_min)/(train_max-train_min)\n",
    "valid_feat['lang'] = list(valid['lang'])\n",
    "\n",
    "#create feature matrix for test set\n",
    "corpus = test['text']   \n",
    "X = vectorizer.fit_transform(corpus.values.astype('U'))\n",
    "\n",
    "test_feat = pd.DataFrame(data=X.toarray(),columns=feature_names)\n",
    "test_feat = (test_feat - train_min)/(train_max-train_min)\n",
    "test_feat['lang'] = list(test['lang'])"
   ]
  },
  {
   "cell_type": "code",
   "execution_count": 17,
   "metadata": {},
   "outputs": [],
   "source": [
    "from sklearn.preprocessing import LabelEncoder\n",
    "from keras.utils import np_utils\n",
    "\n",
    "#Fit encoder\n",
    "encoder = LabelEncoder()\n",
    "encoder.fit(['eng', 'hi'])\n",
    "\n",
    "def encode(y):\n",
    "    \"\"\"\n",
    "    Returns a list of one hot encodings\n",
    "    Params\n",
    "    ---------\n",
    "        y: list of language labels\n",
    "    \"\"\"\n",
    "    \n",
    "    y_encoded = encoder.transform(y)\n",
    "    y_dummy = np_utils.to_categorical(y_encoded)\n",
    "    \n",
    "    return y_dummy"
   ]
  },
  {
   "cell_type": "code",
   "execution_count": 19,
   "metadata": {},
   "outputs": [
    {
     "name": "stdout",
     "output_type": "stream",
     "text": [
      "Epoch 1/15\n",
      "450/450 [==============================] - 2s 5ms/step - loss: 0.0277 - accuracy: 0.9924\n",
      "Epoch 2/15\n",
      "450/450 [==============================] - 2s 4ms/step - loss: 0.0070 - accuracy: 0.9977\n",
      "Epoch 3/15\n",
      "450/450 [==============================] - 2s 5ms/step - loss: 0.0035 - accuracy: 0.9991\n",
      "Epoch 4/15\n",
      "450/450 [==============================] - 2s 5ms/step - loss: 0.0018 - accuracy: 0.9995\n",
      "Epoch 5/15\n",
      "450/450 [==============================] - 2s 5ms/step - loss: 0.0014 - accuracy: 0.9996\n",
      "Epoch 6/15\n",
      "450/450 [==============================] - 2s 5ms/step - loss: 0.0017 - accuracy: 0.9995\n",
      "Epoch 7/15\n",
      "450/450 [==============================] - 2s 5ms/step - loss: 0.0012 - accuracy: 0.9997\n",
      "Epoch 8/15\n",
      "450/450 [==============================] - 2s 5ms/step - loss: 6.4257e-04 - accuracy: 0.9999\n",
      "Epoch 9/15\n",
      "450/450 [==============================] - 2s 5ms/step - loss: 4.6241e-04 - accuracy: 0.9999\n",
      "Epoch 10/15\n",
      "450/450 [==============================] - 2s 5ms/step - loss: 5.5760e-04 - accuracy: 0.9999\n",
      "Epoch 11/15\n",
      "450/450 [==============================] - 2s 5ms/step - loss: 4.1129e-04 - accuracy: 0.9999\n",
      "Epoch 12/15\n",
      "450/450 [==============================] - 2s 5ms/step - loss: 6.3711e-04 - accuracy: 0.9999\n",
      "Epoch 13/15\n",
      "450/450 [==============================] - 2s 5ms/step - loss: 6.0950e-04 - accuracy: 0.9998\n",
      "Epoch 14/15\n",
      "450/450 [==============================] - 2s 5ms/step - loss: 6.6645e-04 - accuracy: 0.9998\n",
      "Epoch 15/15\n",
      "450/450 [==============================] - 2s 5ms/step - loss: 6.2436e-04 - accuracy: 0.9998\n"
     ]
    },
    {
     "data": {
      "text/plain": [
       "<tensorflow.python.keras.callbacks.History at 0x7f9f6e13a358>"
      ]
     },
     "execution_count": 19,
     "metadata": {},
     "output_type": "execute_result"
    }
   ],
   "source": [
    "from keras.models import Sequential\n",
    "from keras.layers import Dense\n",
    "\n",
    "#Get training data\n",
    "x = train_feat.drop('lang',axis=1)\n",
    "y = encode(train_feat['lang'])\n",
    "\n",
    "#Define model\n",
    "model = Sequential()\n",
    "model.add(Dense(500, input_dim=865, activation='relu'))\n",
    "model.add(Dense(500, activation='relu'))\n",
    "model.add(Dense(250, activation='relu'))\n",
    "model.add(Dense(2, activation='softmax'))\n",
    "model.compile(loss='categorical_crossentropy', optimizer='adam', metrics=['accuracy'])\n",
    "\n",
    "#Train model\n",
    "model.fit(x, y, epochs=15, batch_size=100)"
   ]
  },
  {
   "cell_type": "code",
   "execution_count": 20,
   "metadata": {},
   "outputs": [
    {
     "name": "stdout",
     "output_type": "stream",
     "text": [
      "WARNING:tensorflow:From <ipython-input-20-27b609713bd0>:9: Sequential.predict_classes (from tensorflow.python.keras.engine.sequential) is deprecated and will be removed after 2021-01-01.\n",
      "Instructions for updating:\n",
      "Please use instead:* `np.argmax(model.predict(x), axis=-1)`,   if your model does multi-class classification   (e.g. if it uses a `softmax` last-layer activation).* `(model.predict(x) > 0.5).astype(\"int32\")`,   if your model does binary classification   (e.g. if it uses a `sigmoid` last-layer activation).\n",
      "0.996\n"
     ]
    },
    {
     "data": {
      "text/plain": [
       "Text(61.5, 0.5, 'Actual')"
      ]
     },
     "execution_count": 20,
     "metadata": {},
     "output_type": "execute_result"
    },
    {
     "data": {
      "image/png": "[encoded data removed]",
      "text/plain": [
       "<Figure size 720x720 with 1 Axes>"
      ]
     },
     "metadata": {},
     "output_type": "display_data"
    }
   ],
   "source": [
    "import matplotlib.pyplot as plt\n",
    "import seaborn as sns\n",
    "from sklearn.metrics import accuracy_score,confusion_matrix\n",
    "\n",
    "x_test = test_feat.drop('lang',axis=1)\n",
    "y_test = test_feat['lang']\n",
    "\n",
    "#Get predictions on test set\n",
    "labels = model.predict_classes(x_test)\n",
    "predictions = encoder.inverse_transform(labels)\n",
    "\n",
    "#Accuracy on test set\n",
    "accuracy = accuracy_score(y_test,predictions)\n",
    "print(accuracy)\n",
    "\n",
    "#Create confusion matrix\n",
    "lang = ['eng', 'hi']\n",
    "conf_matrix = confusion_matrix(y_test,predictions)\n",
    "conf_matrix_df = pd.DataFrame(conf_matrix,columns=lang,index=lang)\n",
    "\n",
    "#Plot confusion matrix heatmap\n",
    "plt.figure(figsize=(10, 10), facecolor='w', edgecolor='k')\n",
    "sns.set(font_scale=1.5)\n",
    "sns.heatmap(conf_matrix_df,cmap='coolwarm',annot=True,fmt='.5g',cbar=False)\n",
    "plt.xlabel('Predicted',fontsize=22)\n",
    "plt.ylabel('Actual',fontsize=22)"
   ]
  },
  {
   "cell_type": "code",
   "execution_count": 24,
   "metadata": {},
   "outputs": [
    {
     "name": "stdout",
     "output_type": "stream",
     "text": [
      "[0]\n"
     ]
    }
   ],
   "source": [
    "X = vectorizer.fit_transform(['I would like to apply for business loan'])\n",
    "print(model.predict_classes(X))"
   ]
  },
  {
   "cell_type": "code",
   "execution_count": 22,
   "metadata": {},
   "outputs": [],
   "source": [
    "from flask import Response, Flask, jsonify, request"
   ]
  },
  {
   "cell_type": "code",
   "execution_count": 23,
   "metadata": {},
   "outputs": [
    {
     "name": "stderr",
     "output_type": "stream",
     "text": [
      " * Running on http://localhost:9000/ (Press CTRL+C to quit)\n",
      "127.0.0.1 - - [06/Nov/2020 16:04:23] \"\u001b[37mGET / HTTP/1.1\u001b[0m\" 200 -\n",
      "127.0.0.1 - - [06/Nov/2020 16:04:23] \"\u001b[33mGET /favicon.ico HTTP/1.1\u001b[0m\" 404 -\n"
     ]
    }
   ],
   "source": [
    "from werkzeug.wrappers import Request, Response\n",
    "from flask import Flask\n",
    "\n",
    "app = Flask(__name__)\n",
    "\n",
    "@app.route(\"/\")\n",
    "def hello():\n",
    "    return \"Hello World!\"\n",
    "\n",
    "if __name__ == '__main__':\n",
    "    from werkzeug.serving import run_simple\n",
    "    run_simple('localhost', 9000, app)"
   ]
  },
  {
   "cell_type": "code",
   "execution_count": null,
   "metadata": {},
   "outputs": [
    {
     "name": "stderr",
     "output_type": "stream",
     "text": [
      " * Running on http://localhost:5000/ (Press CTRL+C to quit)\n",
      "127.0.0.1 - - [06/Nov/2020 16:09:09] \"\u001b[37mGET /detect_lang?utterance=hi HTTP/1.1\u001b[0m\" 200 -\n"
     ]
    },
    {
     "name": "stdout",
     "output_type": "stream",
     "text": [
      "hi\n",
      "uma hameshA ke lie to jApAna nahIM jA rahe\n"
     ]
    },
    {
     "name": "stderr",
     "output_type": "stream",
     "text": [
      "127.0.0.1 - - [06/Nov/2020 17:16:16] \"\u001b[37mGET /detect_lang?utterance=uma+hameshA+ke+lie+to+jApAna+nahIM+jA+rahe HTTP/1.1\u001b[0m\" 200 -\n",
      "127.0.0.1 - - [06/Nov/2020 17:16:33] \"\u001b[37mGET /detect_lang?utterance=where+can+i+apply+for+business+loan HTTP/1.1\u001b[0m\" 200 -\n"
     ]
    },
    {
     "name": "stdout",
     "output_type": "stream",
     "text": [
      "where can i apply for business loan\n"
     ]
    },
    {
     "name": "stderr",
     "output_type": "stream",
     "text": [
      "127.0.0.1 - - [06/Nov/2020 17:16:46] \"\u001b[37mGET /detect_lang?utterance=chAlU+khAtA+byAja+dara HTTP/1.1\u001b[0m\" 200 -\n"
     ]
    },
    {
     "name": "stdout",
     "output_type": "stream",
     "text": [
      "chAlU khAtA byAja dara\n"
     ]
    },
    {
     "name": "stderr",
     "output_type": "stream",
     "text": [
      "127.0.0.1 - - [06/Nov/2020 17:16:56] \"\u001b[37mGET /detect_lang?utterance=chAlU+khAtA+byAja+dara HTTP/1.1\u001b[0m\" 200 -\n"
     ]
    },
    {
     "name": "stdout",
     "output_type": "stream",
     "text": [
      "chAlU khAtA byAja dara\n"
     ]
    },
    {
     "name": "stderr",
     "output_type": "stream",
     "text": [
      "127.0.0.1 - - [06/Nov/2020 17:17:36] \"\u001b[37mGET /detect_lang?utterance=chAlU+khAtA+byAja+dara HTTP/1.1\u001b[0m\" 200 -\n"
     ]
    },
    {
     "name": "stdout",
     "output_type": "stream",
     "text": [
      "chAlU khAtA byAja dara\n"
     ]
    },
    {
     "name": "stderr",
     "output_type": "stream",
     "text": [
      "127.0.0.1 - - [06/Nov/2020 17:17:44] \"\u001b[37mGET /detect_lang?utterance=chAlU+khAtA+byAja+dara HTTP/1.1\u001b[0m\" 200 -\n"
     ]
    },
    {
     "name": "stdout",
     "output_type": "stream",
     "text": [
      "chAlU khAtA byAja dara\n"
     ]
    },
    {
     "name": "stderr",
     "output_type": "stream",
     "text": [
      "127.0.0.1 - - [06/Nov/2020 17:19:35] \"\u001b[37mGET /detect_lang?utterance=chAlU+khAtA+byAja+dara HTTP/1.1\u001b[0m\" 200 -\n"
     ]
    },
    {
     "name": "stdout",
     "output_type": "stream",
     "text": [
      "chAlU khAtA byAja dara\n"
     ]
    },
    {
     "name": "stderr",
     "output_type": "stream",
     "text": [
      "127.0.0.1 - - [06/Nov/2020 17:25:48] \"\u001b[37mGET /detect_lang?utterance=chAlU+khAtA+kholane+kI+prakriyA HTTP/1.1\u001b[0m\" 200 -\n"
     ]
    },
    {
     "name": "stdout",
     "output_type": "stream",
     "text": [
      "chAlU khAtA kholane kI prakriyA\n"
     ]
    },
    {
     "name": "stderr",
     "output_type": "stream",
     "text": [
      "127.0.0.1 - - [06/Nov/2020 17:27:45] \"\u001b[37mGET /detect_lang?utterance=chAlU+khAtA+kholane+kI+prakriyA HTTP/1.1\u001b[0m\" 200 -\n"
     ]
    },
    {
     "name": "stdout",
     "output_type": "stream",
     "text": [
      "chAlU khAtA kholane kI prakriyA\n"
     ]
    },
    {
     "name": "stderr",
     "output_type": "stream",
     "text": [
      "127.0.0.1 - - [06/Nov/2020 17:29:41] \"\u001b[37mGET /detect_lang?utterance=chAlU+khAtA+kholane+kI+prakriyA HTTP/1.1\u001b[0m\" 200 -\n"
     ]
    },
    {
     "name": "stdout",
     "output_type": "stream",
     "text": [
      "chAlU khAtA kholane kI prakriyA\n"
     ]
    },
    {
     "name": "stderr",
     "output_type": "stream",
     "text": [
      "127.0.0.1 - - [06/Nov/2020 17:30:03] \"\u001b[37mGET /detect_lang?utterance=chAlU+khAtA+kholane+kI+prakriyA HTTP/1.1\u001b[0m\" 200 -\n"
     ]
    },
    {
     "name": "stdout",
     "output_type": "stream",
     "text": [
      "chAlU khAtA kholane kI prakriyA\n"
     ]
    },
    {
     "name": "stderr",
     "output_type": "stream",
     "text": [
      "127.0.0.1 - - [06/Nov/2020 17:30:15] \"\u001b[37mGET /detect_lang?utterance=maiM+eka+niyukti+chAhatA+hUM HTTP/1.1\u001b[0m\" 200 -\n"
     ]
    },
    {
     "name": "stdout",
     "output_type": "stream",
     "text": [
      "maiM eka niyukti chAhatA hUM\n"
     ]
    },
    {
     "name": "stderr",
     "output_type": "stream",
     "text": [
      "127.0.0.1 - - [06/Nov/2020 17:45:24] \"\u001b[37mGET /detect_lang?utterance=i+need+10+lakh+rupees+at+5%25+tomorrow HTTP/1.1\u001b[0m\" 200 -\n"
     ]
    },
    {
     "name": "stdout",
     "output_type": "stream",
     "text": [
      "i need 10 lakh rupees at 5% tomorrow\n"
     ]
    },
    {
     "name": "stderr",
     "output_type": "stream",
     "text": [
      "127.0.0.1 - - [06/Nov/2020 17:45:57] \"\u001b[37mGET /detect_lang?utterance=chAlU+khAte+ke+lie+byAja+dara+kyA+hai+agla+somavar HTTP/1.1\u001b[0m\" 200 -\n"
     ]
    },
    {
     "name": "stdout",
     "output_type": "stream",
     "text": [
      "chAlU khAte ke lie byAja dara kyA hai agla somavar\n"
     ]
    },
    {
     "name": "stderr",
     "output_type": "stream",
     "text": [
      "127.0.0.1 - - [06/Nov/2020 18:00:45] \"\u001b[37mGET /detect_lang?utterance=business+loan+application HTTP/1.1\u001b[0m\" 200 -\n"
     ]
    },
    {
     "name": "stdout",
     "output_type": "stream",
     "text": [
      "business loan application\n"
     ]
    },
    {
     "name": "stderr",
     "output_type": "stream",
     "text": [
      "127.0.0.1 - - [06/Nov/2020 18:01:08] \"\u001b[37mGET /detect_lang?utterance=vyaapar+run+ke+liye+aavedhan+karna HTTP/1.1\u001b[0m\" 200 -\n"
     ]
    },
    {
     "name": "stdout",
     "output_type": "stream",
     "text": [
      "vyaapar run ke liye aavedhan karna\n"
     ]
    },
    {
     "name": "stderr",
     "output_type": "stream",
     "text": [
      "127.0.0.1 - - [06/Nov/2020 18:02:41] \"\u001b[37mGET /detect_lang?utterance=vyaapaar+run+ke+liye+aavedhan+karna HTTP/1.1\u001b[0m\" 200 -\n"
     ]
    },
    {
     "name": "stdout",
     "output_type": "stream",
     "text": [
      "vyaapaar run ke liye aavedhan karna\n"
     ]
    },
    {
     "name": "stderr",
     "output_type": "stream",
     "text": [
      "127.0.0.1 - - [06/Nov/2020 18:02:51] \"\u001b[37mGET /detect_lang?utterance=vyaapar+run+ke+liye+aavedhan+karnaa HTTP/1.1\u001b[0m\" 200 -\n"
     ]
    },
    {
     "name": "stdout",
     "output_type": "stream",
     "text": [
      "vyaapar run ke liye aavedhan karnaa\n"
     ]
    },
    {
     "name": "stderr",
     "output_type": "stream",
     "text": [
      "127.0.0.1 - - [06/Nov/2020 18:03:03] \"\u001b[37mGET /detect_lang?utterance=vyaapaar+run+ke+liye+aavedhan+karnaa HTTP/1.1\u001b[0m\" 200 -\n"
     ]
    },
    {
     "name": "stdout",
     "output_type": "stream",
     "text": [
      "vyaapaar run ke liye aavedhan karnaa\n"
     ]
    },
    {
     "name": "stderr",
     "output_type": "stream",
     "text": [
      "127.0.0.1 - - [06/Nov/2020 18:23:09] \"\u001b[37mGET /detect_lang?utterance=business+loan+राशि HTTP/1.1\u001b[0m\" 200 -\n"
     ]
    },
    {
     "name": "stdout",
     "output_type": "stream",
     "text": [
      "business loan राशि\n"
     ]
    },
    {
     "name": "stderr",
     "output_type": "stream",
     "text": [
      "127.0.0.1 - - [06/Nov/2020 18:25:27] \"\u001b[37mGET /detect_lang?utterance=current+account+खुला HTTP/1.1\u001b[0m\" 200 -\n"
     ]
    },
    {
     "name": "stdout",
     "output_type": "stream",
     "text": [
      "current account खुला\n"
     ]
    },
    {
     "name": "stderr",
     "output_type": "stream",
     "text": [
      "127.0.0.1 - - [06/Nov/2020 18:32:21] \"\u001b[37mGET /detect_lang?utterance=Quiero+solicitar+un+préstamo+personal HTTP/1.1\u001b[0m\" 200 -\n"
     ]
    },
    {
     "name": "stdout",
     "output_type": "stream",
     "text": [
      "Quiero solicitar un préstamo personal\n"
     ]
    },
    {
     "name": "stderr",
     "output_type": "stream",
     "text": [
      "127.0.0.1 - - [06/Nov/2020 18:32:49] \"\u001b[37mGET /detect_lang?utterance=நான்+தனிப்பட்ட+கடனுக்கு+விண்ணப்பிக்க+விரும்புகிறேன் HTTP/1.1\u001b[0m\" 200 -\n"
     ]
    },
    {
     "name": "stdout",
     "output_type": "stream",
     "text": [
      "நான் தனிப்பட்ட கடனுக்கு விண்ணப்பிக்க விரும்புகிறேன்\n"
     ]
    },
    {
     "name": "stderr",
     "output_type": "stream",
     "text": [
      "127.0.0.1 - - [06/Nov/2020 18:33:01] \"\u001b[37mGET /detect_lang?utterance=నేను+వ్యక్తిగత+రుణం+కోసం+దరఖాస్తు+చేయాలనుకుంటున్నాను HTTP/1.1\u001b[0m\" 200 -\n"
     ]
    },
    {
     "name": "stdout",
     "output_type": "stream",
     "text": [
      "నేను వ్యక్తిగత రుణం కోసం దరఖాస్తు చేయాలనుకుంటున్నాను\n"
     ]
    },
    {
     "name": "stderr",
     "output_type": "stream",
     "text": [
      "127.0.0.1 - - [06/Nov/2020 18:33:14] \"\u001b[37mGET /detect_lang?utterance=నేను+personal+loan+కోసం+దరఖాస్తు+చేయాలనుకుంటున్నాను HTTP/1.1\u001b[0m\" 200 -\n"
     ]
    },
    {
     "name": "stdout",
     "output_type": "stream",
     "text": [
      "నేను personal loan కోసం దరఖాస్తు చేయాలనుకుంటున్నాను\n"
     ]
    },
    {
     "name": "stderr",
     "output_type": "stream",
     "text": [
      "127.0.0.1 - - [06/Nov/2020 18:33:41] \"\u001b[37mGET /detect_lang?utterance=నేను+క్రెడిట్+కార్డు+కోసం+దరఖాస్తు+చేయాలనుకుంటున్నాను HTTP/1.1\u001b[0m\" 200 -\n"
     ]
    },
    {
     "name": "stdout",
     "output_type": "stream",
     "text": [
      "నేను క్రెడిట్ కార్డు కోసం దరఖాస్తు చేయాలనుకుంటున్నాను\n"
     ]
    },
    {
     "name": "stderr",
     "output_type": "stream",
     "text": [
      "127.0.0.1 - - [06/Nov/2020 18:33:52] \"\u001b[37mGET /detect_lang?utterance=నేను+డెబిట్+కార్డు+కోసం+దరఖాస్తు+చేయాలనుకుంటున్నాను HTTP/1.1\u001b[0m\" 200 -\n"
     ]
    },
    {
     "name": "stdout",
     "output_type": "stream",
     "text": [
      "నేను డెబిట్ కార్డు కోసం దరఖాస్తు చేయాలనుకుంటున్నాను\n"
     ]
    },
    {
     "name": "stderr",
     "output_type": "stream",
     "text": [
      "127.0.0.1 - - [06/Nov/2020 18:34:19] \"\u001b[37mGET /detect_lang?utterance=我想申请借记卡 HTTP/1.1\u001b[0m\" 200 -\n"
     ]
    },
    {
     "name": "stdout",
     "output_type": "stream",
     "text": [
      "我想申请借记卡\n"
     ]
    },
    {
     "name": "stderr",
     "output_type": "stream",
     "text": [
      "127.0.0.1 - - [06/Nov/2020 18:34:45] \"\u001b[37mGET /detect_lang?utterance=我可以添加信用卡嗎 HTTP/1.1\u001b[0m\" 200 -\n"
     ]
    },
    {
     "name": "stdout",
     "output_type": "stream",
     "text": [
      "我可以添加信用卡嗎\n"
     ]
    },
    {
     "name": "stderr",
     "output_type": "stream",
     "text": [
      "127.0.0.1 - - [06/Nov/2020 19:04:09] \"\u001b[37mGET /detect_lang?utterance=I+want+to+apply+for+personal+loan HTTP/1.1\u001b[0m\" 200 -\n"
     ]
    },
    {
     "name": "stdout",
     "output_type": "stream",
     "text": [
      "I want to apply for personal loan\n"
     ]
    },
    {
     "name": "stderr",
     "output_type": "stream",
     "text": [
      "127.0.0.1 - - [06/Nov/2020 19:04:41] \"\u001b[37mGET /detect_lang?utterance=muje+personal+loan+chahiye HTTP/1.1\u001b[0m\" 200 -\n"
     ]
    },
    {
     "name": "stdout",
     "output_type": "stream",
     "text": [
      "muje personal loan chahiye\n"
     ]
    },
    {
     "name": "stderr",
     "output_type": "stream",
     "text": [
      "127.0.0.1 - - [06/Nov/2020 19:06:45] \"\u001b[37mGET /detect_lang?utterance=i+want+to+watch+a+movie HTTP/1.1\u001b[0m\" 200 -\n"
     ]
    },
    {
     "name": "stdout",
     "output_type": "stream",
     "text": [
      "i want to watch a movie\n"
     ]
    },
    {
     "name": "stderr",
     "output_type": "stream",
     "text": [
      "127.0.0.1 - - [06/Nov/2020 19:08:20] \"\u001b[37mGET /detect_lang?utterance=i+want+10+lakhs+of+personal+loan HTTP/1.1\u001b[0m\" 200 -\n"
     ]
    },
    {
     "name": "stdout",
     "output_type": "stream",
     "text": [
      "i want 10 lakhs of personal loan\n"
     ]
    },
    {
     "name": "stderr",
     "output_type": "stream",
     "text": [
      "127.0.0.1 - - [06/Nov/2020 19:08:45] \"\u001b[37mGET /detect_lang?utterance=muje+das+lakh+loan+chahiye HTTP/1.1\u001b[0m\" 200 -\n"
     ]
    },
    {
     "name": "stdout",
     "output_type": "stream",
     "text": [
      "muje das lakh loan chahiye\n"
     ]
    },
    {
     "name": "stderr",
     "output_type": "stream",
     "text": [
      "127.0.0.1 - - [06/Nov/2020 19:14:29] \"\u001b[37mGET /detect_lang?utterance=mujhe+personal+loan+chaahiye HTTP/1.1\u001b[0m\" 200 -\n"
     ]
    },
    {
     "name": "stdout",
     "output_type": "stream",
     "text": [
      "mujhe personal loan chaahiye\n"
     ]
    },
    {
     "name": "stderr",
     "output_type": "stream",
     "text": [
      "127.0.0.1 - - [06/Nov/2020 19:16:18] \"\u001b[37mGET /detect_lang?utterance=mujhe+credit+card+apply+karna+chaahiye HTTP/1.1\u001b[0m\" 200 -\n"
     ]
    },
    {
     "name": "stdout",
     "output_type": "stream",
     "text": [
      "mujhe credit card apply karna chaahiye\n",
      "hi\n"
     ]
    },
    {
     "name": "stderr",
     "output_type": "stream",
     "text": [
      "127.0.0.1 - - [26/Nov/2020 23:01:57] \"\u001b[37mGET /detect_lang?utterance=hi HTTP/1.1\u001b[0m\" 200 -\n",
      "127.0.0.1 - - [26/Nov/2020 23:22:40] \"\u001b[37mGET /detect_lang?utterance=mujhe+current+account+open+karna HTTP/1.1\u001b[0m\" 200 -\n"
     ]
    },
    {
     "name": "stdout",
     "output_type": "stream",
     "text": [
      "mujhe current account open karna\n"
     ]
    },
    {
     "name": "stderr",
     "output_type": "stream",
     "text": [
      "127.0.0.1 - - [26/Nov/2020 23:23:07] \"\u001b[37mGET /detect_lang?utterance=mujhe+current+account+open+chahiye HTTP/1.1\u001b[0m\" 200 -\n"
     ]
    },
    {
     "name": "stdout",
     "output_type": "stream",
     "text": [
      "mujhe current account open chahiye\n"
     ]
    },
    {
     "name": "stderr",
     "output_type": "stream",
     "text": [
      "127.0.0.1 - - [27/Nov/2020 06:48:31] \"\u001b[37mGET /detect_lang?utterance=hi HTTP/1.1\u001b[0m\" 200 -\n"
     ]
    },
    {
     "name": "stdout",
     "output_type": "stream",
     "text": [
      "hi\n"
     ]
    },
    {
     "name": "stderr",
     "output_type": "stream",
     "text": [
      "127.0.0.1 - - [27/Nov/2020 06:50:23] \"\u001b[37mGET /detect_lang?utterance=hi HTTP/1.1\u001b[0m\" 200 -\n"
     ]
    },
    {
     "name": "stdout",
     "output_type": "stream",
     "text": [
      "hi\n"
     ]
    },
    {
     "name": "stderr",
     "output_type": "stream",
     "text": [
      "127.0.0.1 - - [27/Nov/2020 06:50:46] \"\u001b[37mGET /detect_lang?utterance=i+want+to+apply+for+10+lakh+personal+loan HTTP/1.1\u001b[0m\" 200 -\n"
     ]
    },
    {
     "name": "stdout",
     "output_type": "stream",
     "text": [
      "i want to apply for 10 lakh personal loan\n"
     ]
    }
   ],
   "source": [
    "app = Flask(__name__)\n",
    "\n",
    "@app.route('/detect_lang', methods=['GET'])\n",
    "def detect_lang():\n",
    "    utterance = request.args.get('utterance')\n",
    "    print(utterance)\n",
    "    X = vectorizer.fit_transform([utterance])\n",
    "    return str(model.predict_classes(X)[0])\n",
    "    \n",
    "if __name__ == '__main__':\n",
    "    from werkzeug.serving import run_simple\n",
    "    run_simple('localhost', 5000, app)"
   ]
  },
  {
   "cell_type": "code",
   "execution_count": 27,
   "metadata": {},
   "outputs": [],
   "source": []
  },
  {
   "cell_type": "code",
   "execution_count": null,
   "metadata": {},
   "outputs": [],
   "source": []
  }
 ],
 "metadata": {
  "kernelspec": {
   "display_name": "Python 3",
   "language": "python",
   "name": "python3"
  },
  "language_info": {
   "codemirror_mode": {
    "name": "ipython",
    "version": 3
   },
   "file_extension": ".py",
   "mimetype": "text/x-python",
   "name": "python",
   "nbconvert_exporter": "python",
   "pygments_lexer": "ipython3",
   "version": "3.6.12"
  }
 },
 "nbformat": 4,
 "nbformat_minor": 4
}
