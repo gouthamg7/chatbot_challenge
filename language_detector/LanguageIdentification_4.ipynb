{
 "cells": [
  {
   "cell_type": "code",
   "execution_count": 2,
   "metadata": {},
   "outputs": [],
   "source": [
    "import pandas as pd\n",
    "\n",
    "#Read in full dataset\n",
    "data = pd.read_csv('../dnn/language_identification/data/sentences.csv',\n",
    "                            sep='\\t', \n",
    "                            encoding='utf8', \n",
    "                            index_col=0,\n",
    "                            names=['lang','text'])"
   ]
  },
  {
   "cell_type": "code",
   "execution_count": 3,
   "metadata": {},
   "outputs": [],
   "source": [
    "lang = ['eng']\n",
    "data = data[data['lang'].isin(lang)]"
   ]
  },
  {
   "cell_type": "code",
   "execution_count": 17,
   "metadata": {},
   "outputs": [],
   "source": [
    "#Filter by text length\n",
    "#len_cond = [True if 20<=len(s)<=200 else False for s in data['text']]\n",
    "#data = data[len_cond]\n",
    "\n",
    "#Filter by text language\n",
    "#lang = ['deu', 'eng', 'fra', 'ita', 'por', 'spa']\n",
    "#data = data[data['lang'].isin(lang)]\n",
    "\n",
    "#Select 50000 rows for each language\n",
    "data_trim = pd.DataFrame(columns=['lang','text'])\n",
    "\n",
    "for l in lang:\n",
    "    lang_trim = data[data['lang'] ==l].sample(15000,random_state = 100)\n",
    "    data_trim = data_trim.append(lang_trim)"
   ]
  },
  {
   "cell_type": "code",
   "execution_count": 4,
   "metadata": {},
   "outputs": [],
   "source": [
    "hin_data = pd.read_csv('../dnn/dakshina_dataset_v1.0/hi/romanized/hi.romanized.rejoined.tsv',\n",
    "                            sep='\\t', \n",
    "                            encoding='utf8',\n",
    "                            usecols=[1],\n",
    "                            names=['text'])"
   ]
  },
  {
   "cell_type": "code",
   "execution_count": 5,
   "metadata": {},
   "outputs": [],
   "source": [
    "hin_data['lang'] = 'hi'"
   ]
  },
  {
   "cell_type": "code",
   "execution_count": 6,
   "metadata": {},
   "outputs": [
    {
     "name": "stdout",
     "output_type": "stream",
     "text": [
      "(9949, 2)\n"
     ]
    }
   ],
   "source": [
    "print(hin_data.shape)"
   ]
  },
  {
   "cell_type": "code",
   "execution_count": 8,
   "metadata": {},
   "outputs": [],
   "source": [
    "tel_data = pd.read_csv('../dnn/dakshina_dataset_v1.0/te/romanized/te.romanized.rejoined.tsv',\n",
    "                            sep='\\t', \n",
    "                            encoding='utf8',\n",
    "                            usecols=[1],\n",
    "                            names=['text'])"
   ]
  },
  {
   "cell_type": "code",
   "execution_count": 9,
   "metadata": {},
   "outputs": [],
   "source": [
    "tel_data['lang'] = 'te'"
   ]
  },
  {
   "cell_type": "code",
   "execution_count": 10,
   "metadata": {},
   "outputs": [
    {
     "name": "stdout",
     "output_type": "stream",
     "text": [
      "(9920, 2)\n"
     ]
    }
   ],
   "source": [
    "print(tel_data.shape)"
   ]
  },
  {
   "cell_type": "code",
   "execution_count": 14,
   "metadata": {},
   "outputs": [],
   "source": [
    "tam_data = pd.read_csv('../dnn/dakshina_dataset_v1.0/ta/romanized/ta.romanized.rejoined.tsv',\n",
    "                            sep='\\t', \n",
    "                            encoding='utf8',\n",
    "                            usecols=[1],\n",
    "                            names=['text'])"
   ]
  },
  {
   "cell_type": "code",
   "execution_count": 15,
   "metadata": {},
   "outputs": [],
   "source": [
    "tam_data['lang'] = 'ta'"
   ]
  },
  {
   "cell_type": "code",
   "execution_count": 16,
   "metadata": {},
   "outputs": [
    {
     "name": "stdout",
     "output_type": "stream",
     "text": [
      "(9904, 2)\n"
     ]
    }
   ],
   "source": [
    "print(tam_data.shape)"
   ]
  },
  {
   "cell_type": "code",
   "execution_count": 18,
   "metadata": {},
   "outputs": [
    {
     "name": "stdout",
     "output_type": "stream",
     "text": [
      "(24920, 2)\n"
     ]
    }
   ],
   "source": [
    "data_trim = data_trim.append(tel_data,ignore_index=True)\n",
    "print(data_trim.shape)"
   ]
  },
  {
   "cell_type": "code",
   "execution_count": 19,
   "metadata": {},
   "outputs": [
    {
     "name": "stdout",
     "output_type": "stream",
     "text": [
      "(34869, 2)\n"
     ]
    }
   ],
   "source": [
    "data_trim = data_trim.append(hin_data,ignore_index=True)\n",
    "print(data_trim.shape)"
   ]
  },
  {
   "cell_type": "code",
   "execution_count": 20,
   "metadata": {},
   "outputs": [
    {
     "name": "stdout",
     "output_type": "stream",
     "text": [
      "(44773, 2)\n"
     ]
    }
   ],
   "source": [
    "data_trim = data_trim.append(tam_data,ignore_index=True)\n",
    "print(data_trim.shape)"
   ]
  },
  {
   "cell_type": "code",
   "execution_count": 21,
   "metadata": {},
   "outputs": [],
   "source": [
    "#Create a random train, valid, test split\n",
    "data_shuffle = data_trim.sample(frac=1)\n",
    "\n",
    "train = data_shuffle[0:42000]\n",
    "valid = data_shuffle[42000:43000]\n",
    "test = data_shuffle[43000:44700]"
   ]
  },
  {
   "cell_type": "code",
   "execution_count": 22,
   "metadata": {},
   "outputs": [
    {
     "name": "stdout",
     "output_type": "stream",
     "text": [
      "      lang                                               text\n",
      "44768   ta  Yendraalum William irandha piragaana Carolinin...\n",
      "44769   ta  Tholporuliyal achchagam (Archaeopress) yenbath...\n",
      "44770   ta  Malaiya naattu mannanai malaadar komaan yendru...\n",
      "44771   ta  Appadaiyin thogai miga arugi irunthathodu, ath...\n",
      "44772   ta  Thondan ilangai, thirukonanmalaiyilirundhu 197...\n"
     ]
    }
   ],
   "source": [
    "print(data_trim.tail())"
   ]
  },
  {
   "cell_type": "code",
   "execution_count": 25,
   "metadata": {},
   "outputs": [],
   "source": [
    "from sklearn.feature_extraction.text import CountVectorizer\n",
    "\n",
    "def get_trigrams(corpus,n_feat=500):\n",
    "    \"\"\"\n",
    "    Returns a list of the N most common character trigrams from a list of sentences\n",
    "    params\n",
    "    ------------\n",
    "        corpus: list of strings\n",
    "        n_feat: integer\n",
    "    \"\"\"\n",
    "    \n",
    "    #fit the n-gram model\n",
    "    vectorizer = CountVectorizer(analyzer='char',\n",
    "                            ngram_range=(3, 3)\n",
    "                            ,max_features=n_feat)\n",
    "    \n",
    "    X = vectorizer.fit_transform(corpus.values.astype('U'))\n",
    "    \n",
    "    #Get model feature names\n",
    "    feature_names = vectorizer.get_feature_names()\n",
    "    \n",
    "    return feature_names"
   ]
  },
  {
   "cell_type": "code",
   "execution_count": 26,
   "metadata": {},
   "outputs": [
    {
     "name": "stdout",
     "output_type": "stream",
     "text": [
      "eng\n",
      "hi\n",
      "te\n",
      "ta\n"
     ]
    }
   ],
   "source": [
    "#obtain trigrams from each language\n",
    "features = {}\n",
    "features_set = set()\n",
    "lang = ['eng', 'hi', 'te', 'ta']\n",
    "\n",
    "for l in lang:\n",
    "    print(l)\n",
    "    #get corpus filtered by language\n",
    "    corpus = train[train.lang==l]['text']\n",
    "    \n",
    "    #get 200 most frequent trigrams\n",
    "    trigrams = get_trigrams(corpus)\n",
    "    \n",
    "    #add to dict and set\n",
    "    features[l] = trigrams \n",
    "    features_set.update(trigrams)\n",
    "\n",
    "    \n",
    "#create vocabulary list using feature set\n",
    "vocab = dict()\n",
    "for i,f in enumerate(features_set):\n",
    "    vocab[f]=i"
   ]
  },
  {
   "cell_type": "code",
   "execution_count": 27,
   "metadata": {},
   "outputs": [],
   "source": [
    "#train count vectoriser using vocabulary\n",
    "vectorizer = CountVectorizer(analyzer='char',\n",
    "                             ngram_range=(3, 3),\n",
    "                            vocabulary=vocab)\n",
    "\n",
    "#create feature matrix for training set\n",
    "corpus = train['text']   \n",
    "X = vectorizer.fit_transform(corpus.values.astype('U'))\n",
    "#x = v.fit_transform(df['Review'].values.astype('U'))\n",
    "feature_names = vectorizer.get_feature_names()\n",
    "\n",
    "train_feat = pd.DataFrame(data=X.toarray(),columns=feature_names)"
   ]
  },
  {
   "cell_type": "code",
   "execution_count": 28,
   "metadata": {},
   "outputs": [],
   "source": [
    "#Scale feature matrix \n",
    "train_min = train_feat.min()\n",
    "train_max = train_feat.max()\n",
    "train_feat = (train_feat - train_min)/(train_max-train_min)\n",
    "\n",
    "#Add target variable \n",
    "train_feat['lang'] = list(train['lang'])"
   ]
  },
  {
   "cell_type": "code",
   "execution_count": 29,
   "metadata": {},
   "outputs": [],
   "source": [
    "#create feature matrix for validation set\n",
    "corpus = valid['text']   \n",
    "X = vectorizer.fit_transform(corpus.values.astype('U'))\n",
    "\n",
    "valid_feat = pd.DataFrame(data=X.toarray(),columns=feature_names)\n",
    "valid_feat = (valid_feat - train_min)/(train_max-train_min)\n",
    "valid_feat['lang'] = list(valid['lang'])\n",
    "\n",
    "#create feature matrix for test set\n",
    "corpus = test['text']   \n",
    "X = vectorizer.fit_transform(corpus.values.astype('U'))\n",
    "\n",
    "test_feat = pd.DataFrame(data=X.toarray(),columns=feature_names)\n",
    "test_feat = (test_feat - train_min)/(train_max-train_min)\n",
    "test_feat['lang'] = list(test['lang'])"
   ]
  },
  {
   "cell_type": "code",
   "execution_count": 30,
   "metadata": {},
   "outputs": [],
   "source": [
    "from sklearn.preprocessing import LabelEncoder\n",
    "from keras.utils import np_utils\n",
    "\n",
    "#Fit encoder\n",
    "encoder = LabelEncoder()\n",
    "encoder.fit(['eng', 'hi', 'te', 'ta'])\n",
    "\n",
    "def encode(y):\n",
    "    \"\"\"\n",
    "    Returns a list of one hot encodings\n",
    "    Params\n",
    "    ---------\n",
    "        y: list of language labels\n",
    "    \"\"\"\n",
    "    \n",
    "    y_encoded = encoder.transform(y)\n",
    "    y_dummy = np_utils.to_categorical(y_encoded)\n",
    "    \n",
    "    return y_dummy"
   ]
  },
  {
   "cell_type": "code",
   "execution_count": 32,
   "metadata": {},
   "outputs": [
    {
     "name": "stdout",
     "output_type": "stream",
     "text": [
      "Epoch 1/15\n",
      "420/420 [==============================] - 2s 5ms/step - loss: 0.1329 - accuracy: 0.9528\n",
      "Epoch 2/15\n",
      "420/420 [==============================] - 2s 5ms/step - loss: 0.0646 - accuracy: 0.9748\n",
      "Epoch 3/15\n",
      "420/420 [==============================] - 2s 5ms/step - loss: 0.0488 - accuracy: 0.9804\n",
      "Epoch 4/15\n",
      "420/420 [==============================] - 2s 5ms/step - loss: 0.0333 - accuracy: 0.9863\n",
      "Epoch 5/15\n",
      "420/420 [==============================] - 2s 6ms/step - loss: 0.0223 - accuracy: 0.9913\n",
      "Epoch 6/15\n",
      "420/420 [==============================] - 2s 6ms/step - loss: 0.0151 - accuracy: 0.9937\n",
      "Epoch 7/15\n",
      "420/420 [==============================] - 2s 6ms/step - loss: 0.0143 - accuracy: 0.9951\n",
      "Epoch 8/15\n",
      "420/420 [==============================] - 2s 6ms/step - loss: 0.0120 - accuracy: 0.9959\n",
      "Epoch 9/15\n",
      "420/420 [==============================] - 2s 6ms/step - loss: 0.0091 - accuracy: 0.9970\n",
      "Epoch 10/15\n",
      "420/420 [==============================] - 2s 6ms/step - loss: 0.0078 - accuracy: 0.9970\n",
      "Epoch 11/15\n",
      "420/420 [==============================] - 2s 6ms/step - loss: 0.0080 - accuracy: 0.9971\n",
      "Epoch 12/15\n",
      "420/420 [==============================] - 2s 6ms/step - loss: 0.0073 - accuracy: 0.9972\n",
      "Epoch 13/15\n",
      "420/420 [==============================] - 3s 6ms/step - loss: 0.0051 - accuracy: 0.9980\n",
      "Epoch 14/15\n",
      "420/420 [==============================] - 2s 6ms/step - loss: 0.0065 - accuracy: 0.9980\n",
      "Epoch 15/15\n",
      "420/420 [==============================] - 3s 6ms/step - loss: 0.0050 - accuracy: 0.9980\n"
     ]
    },
    {
     "data": {
      "text/plain": [
       "<tensorflow.python.keras.callbacks.History at 0x7fef9d8a0588>"
      ]
     },
     "execution_count": 32,
     "metadata": {},
     "output_type": "execute_result"
    }
   ],
   "source": [
    "from keras.models import Sequential\n",
    "from keras.layers import Dense\n",
    "\n",
    "#Get training data\n",
    "x = train_feat.drop('lang',axis=1)\n",
    "y = encode(train_feat['lang'])\n",
    "\n",
    "#Define model\n",
    "model = Sequential()\n",
    "model.add(Dense(500, input_dim=1270, activation='relu'))\n",
    "model.add(Dense(500, activation='relu'))\n",
    "model.add(Dense(250, activation='relu'))\n",
    "model.add(Dense(4, activation='softmax'))\n",
    "model.compile(loss='categorical_crossentropy', optimizer='adam', metrics=['accuracy'])\n",
    "\n",
    "#Train model\n",
    "model.fit(x, y, epochs=15, batch_size=100)"
   ]
  },
  {
   "cell_type": "code",
   "execution_count": 37,
   "metadata": {},
   "outputs": [
    {
     "name": "stdout",
     "output_type": "stream",
     "text": [
      "0.9658823529411765\n"
     ]
    },
    {
     "data": {
      "text/plain": [
       "Text(61.5, 0.5, 'Actual')"
      ]
     },
     "execution_count": 37,
     "metadata": {},
     "output_type": "execute_result"
    },
    {
     "data": {
      "image/png": "[encoded data removed]",
      "text/plain": [
       "<Figure size 720x720 with 1 Axes>"
      ]
     },
     "metadata": {},
     "output_type": "display_data"
    }
   ],
   "source": [
    "import matplotlib.pyplot as plt\n",
    "import seaborn as sns\n",
    "from sklearn.metrics import accuracy_score,confusion_matrix\n",
    "\n",
    "x_test = test_feat.drop('lang',axis=1)\n",
    "y_test = test_feat['lang']\n",
    "\n",
    "#Get predictions on test set\n",
    "labels = model.predict_classes(x_test)\n",
    "predictions = encoder.inverse_transform(labels)\n",
    "\n",
    "#Accuracy on test set\n",
    "accuracy = accuracy_score(y_test,predictions)\n",
    "print(accuracy)\n",
    "\n",
    "#Create confusion matrix\n",
    "lang = ['eng', 'hi', 'te', 'ta']\n",
    "conf_matrix = confusion_matrix(y_test,predictions)\n",
    "conf_matrix_df = pd.DataFrame(conf_matrix,columns=lang,index=lang)\n",
    "\n",
    "#Plot confusion matrix heatmap\n",
    "plt.figure(figsize=(10, 10), facecolor='w', edgecolor='k')\n",
    "sns.set(font_scale=1.5)\n",
    "sns.heatmap(conf_matrix_df,cmap='coolwarm',annot=True,fmt='.5g',cbar=False)\n",
    "plt.xlabel('Predicted',fontsize=22)\n",
    "plt.ylabel('Actual',fontsize=22)"
   ]
  },
  {
   "cell_type": "code",
   "execution_count": 50,
   "metadata": {},
   "outputs": [
    {
     "name": "stdout",
     "output_type": "stream",
     "text": [
      "te\n"
     ]
    }
   ],
   "source": [
    "X = vectorizer.fit_transform(['appudu vichithrangha aa shishuvu adrushayamaina athanni samharinchagala shishuvu marekado peruguthunadani'])\n",
    "#print(X)\n",
    "print(lang[model.predict_classes(X)[0]])"
   ]
  },
  {
   "cell_type": "code",
   "execution_count": 52,
   "metadata": {},
   "outputs": [],
   "source": [
    "from flask import Response, Flask, jsonify, request"
   ]
  },
  {
   "cell_type": "code",
   "execution_count": null,
   "metadata": {},
   "outputs": [
    {
     "name": "stderr",
     "output_type": "stream",
     "text": [
      " * Running on http://localhost:5001/ (Press CTRL+C to quit)\n",
      "127.0.0.1 - - [06/Nov/2020 18:40:38] \"\u001b[37mGET /detect_lang?utterance=kidaikodukalin%20munaigal%20irupuramum%20kuthuk%20kodukalal%20inaikkappattiru HTTP/1.1\u001b[0m\" 200 -\n"
     ]
    },
    {
     "name": "stdout",
     "output_type": "stream",
     "text": [
      "kidaikodukalin munaigal irupuramum kuthuk kodukalal inaikkappattiru\n"
     ]
    },
    {
     "name": "stderr",
     "output_type": "stream",
     "text": [
      "127.0.0.1 - - [26/Nov/2020 23:02:02] \"\u001b[37mGET /detect_lang?utterance=kidaikodukalin%20munaigal%20irupuramum%20kuthuk%20kodukalal%20inaikkappattiru HTTP/1.1\u001b[0m\" 200 -\n"
     ]
    },
    {
     "name": "stdout",
     "output_type": "stream",
     "text": [
      "kidaikodukalin munaigal irupuramum kuthuk kodukalal inaikkappattiru\n"
     ]
    }
   ],
   "source": [
    "app = Flask(__name__)\n",
    "\n",
    "@app.route('/detect_lang', methods=['GET'])\n",
    "def detect_lang():\n",
    "    utterance = request.args.get('utterance')\n",
    "    print(utterance)\n",
    "    X = vectorizer.fit_transform([utterance])\n",
    "    if model.predict_classes(X)[0] == 0:\n",
    "        return \"en\"\n",
    "    elif model.predict_classes(X)[0] == 1:\n",
    "        return \"hi\"\n",
    "    elif model.predict_classes(X)[0] == 2:\n",
    "        return \"ta\"\n",
    "    else:\n",
    "        return \"te\"\n",
    "    \n",
    "if __name__ == '__main__':\n",
    "    from werkzeug.serving import run_simple\n",
    "    run_simple('localhost', 5001, app)"
   ]
  },
  {
   "cell_type": "code",
   "execution_count": null,
   "metadata": {},
   "outputs": [],
   "source": []
  }
 ],
 "metadata": {
  "kernelspec": {
   "display_name": "Python 3",
   "language": "python",
   "name": "python3"
  },
  "language_info": {
   "codemirror_mode": {
    "name": "ipython",
    "version": 3
   },
   "file_extension": ".py",
   "mimetype": "text/x-python",
   "name": "python",
   "nbconvert_exporter": "python",
   "pygments_lexer": "ipython3",
   "version": "3.6.12"
  }
 },
 "nbformat": 4,
 "nbformat_minor": 4
}
